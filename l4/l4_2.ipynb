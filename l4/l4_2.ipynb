{
 "cells": [
  {
   "cell_type": "code",
   "id": "initial_id",
   "metadata": {
    "collapsed": true,
    "ExecuteTime": {
     "end_time": "2025-04-09T09:39:59.606607Z",
     "start_time": "2025-04-09T09:39:59.546746Z"
    }
   },
   "source": [
    "import pandas as pd\n",
    "import numpy as np\n",
    "import seaborn as sns\n",
    "from numpy.ma.extras import average\n",
    "columns = [\n",
    "    'age', 'workclass', 'fnlwgt', 'education', 'education_num',\n",
    "    'marital_status', 'occupation', 'relationship', 'race', 'sex',\n",
    "    'capital_gain', 'capital_loss', 'hours_per_week', 'native_country', 'income'\n",
    "]\n",
    "pd_df = pd.read_csv('adult.data', sep=',', names=columns, na_values='?', skipinitialspace=True)"
   ],
   "outputs": [],
   "execution_count": 132
  },
  {
   "metadata": {
    "ExecuteTime": {
     "end_time": "2025-04-09T09:39:59.914826Z",
     "start_time": "2025-04-09T09:39:59.610760Z"
    }
   },
   "cell_type": "code",
   "source": [
    "types = [\n",
    "    (\"age\", \"i4\"),\n",
    "    (\"workclass\", \"U25\"),\n",
    "    (\"fnlwgt\", \"i4\"),\n",
    "    (\"education\", \"U25\"),\n",
    "    (\"education_num\", \"i4\"),\n",
    "    (\"marital_status\", \"U25\"),\n",
    "    (\"occupation\", \"U25\"),\n",
    "    (\"relationship\", \"U25\"),\n",
    "    (\"race\", \"U25\"),\n",
    "    (\"sex\", \"U10\"),\n",
    "    (\"capital_gain\", \"i4\"),\n",
    "    (\"capital_loss\", \"i4\"),\n",
    "    (\"hours_per_week\", \"i4\"),\n",
    "    (\"native_country\", \"U25\"),\n",
    "    (\"income\", \"U5\")\n",
    "]\n",
    "\n",
    "np_df = np.genfromtxt(\"adult.data\", missing_values='?', delimiter=',',\n",
    "                      autostrip=True, dtype=types, encoding=\"UTF=8\", filling_values='Unknown')"
   ],
   "id": "f284c6819a92331f",
   "outputs": [],
   "execution_count": 133
  },
  {
   "metadata": {
    "ExecuteTime": {
     "end_time": "2025-04-09T09:39:59.977553Z",
     "start_time": "2025-04-09T09:39:59.964006Z"
    }
   },
   "cell_type": "code",
   "source": [
    "#прибрати ? з np\n",
    "for name in np_df.dtype.names:\n",
    "    if np.issubdtype(np_df[name].dtype, np.str_):\n",
    "        np_df[name][np_df[name] == '?'] = 'Unknown' # дивимось всі унікальні значення"
   ],
   "id": "c8ae58f68703e924",
   "outputs": [],
   "execution_count": 134
  },
  {
   "metadata": {
    "ExecuteTime": {
     "end_time": "2025-04-09T09:40:00.040078Z",
     "start_time": "2025-04-09T09:40:00.025992Z"
    }
   },
   "cell_type": "code",
   "source": "print(pd_df.isnull().sum())",
   "id": "348c769e1d67d8fd",
   "outputs": [
    {
     "name": "stdout",
     "output_type": "stream",
     "text": [
      "age                  0\n",
      "workclass         1836\n",
      "fnlwgt               0\n",
      "education            0\n",
      "education_num        0\n",
      "marital_status       0\n",
      "occupation        1843\n",
      "relationship         0\n",
      "race                 0\n",
      "sex                  0\n",
      "capital_gain         0\n",
      "capital_loss         0\n",
      "hours_per_week       0\n",
      "native_country     583\n",
      "income               0\n",
      "dtype: int64\n"
     ]
    }
   ],
   "execution_count": 135
  },
  {
   "metadata": {
    "ExecuteTime": {
     "end_time": "2025-04-09T09:40:00.102453Z",
     "start_time": "2025-04-09T09:40:00.089245Z"
    }
   },
   "cell_type": "code",
   "source": [
    "pd_df.fillna({\n",
    "    'occupation': pd_df['occupation'].mode()[0],\n",
    "    'native_country': pd_df['native_country'].mode()[0],\n",
    "    'workclass': pd_df['workclass'].mode()[0]\n",
    "}, inplace=True)"
   ],
   "id": "5d1de6158e4f6959",
   "outputs": [],
   "execution_count": 136
  },
  {
   "metadata": {
    "ExecuteTime": {
     "end_time": "2025-04-09T09:40:00.165725Z",
     "start_time": "2025-04-09T09:40:00.152633Z"
    }
   },
   "cell_type": "code",
   "source": "print(pd_df.isnull().sum())",
   "id": "e8a0f03e192af6fe",
   "outputs": [
    {
     "name": "stdout",
     "output_type": "stream",
     "text": [
      "age               0\n",
      "workclass         0\n",
      "fnlwgt            0\n",
      "education         0\n",
      "education_num     0\n",
      "marital_status    0\n",
      "occupation        0\n",
      "relationship      0\n",
      "race              0\n",
      "sex               0\n",
      "capital_gain      0\n",
      "capital_loss      0\n",
      "hours_per_week    0\n",
      "native_country    0\n",
      "income            0\n",
      "dtype: int64\n"
     ]
    }
   ],
   "execution_count": 137
  },
  {
   "metadata": {
    "ExecuteTime": {
     "end_time": "2025-04-09T09:40:00.227855Z",
     "start_time": "2025-04-09T09:40:00.213810Z"
    }
   },
   "cell_type": "code",
   "source": [
    "for name in np_df.dtype.names:\n",
    "    if np.issubdtype(np_df[name].dtype, np.str_):\n",
    "        count = np.sum(np_df[name] == 'Unknown')\n",
    "        print(f\"{name}: {count} 'Unknown'\")\n"
   ],
   "id": "6407b69f1d50e2d0",
   "outputs": [
    {
     "name": "stdout",
     "output_type": "stream",
     "text": [
      "workclass: 1836 'Unknown'\n",
      "education: 0 'Unknown'\n",
      "marital_status: 0 'Unknown'\n",
      "occupation: 1843 'Unknown'\n",
      "relationship: 0 'Unknown'\n",
      "race: 0 'Unknown'\n",
      "sex: 0 'Unknown'\n",
      "native_country: 583 'Unknown'\n",
      "income: 0 'Unknown'\n"
     ]
    }
   ],
   "execution_count": 138
  },
  {
   "metadata": {
    "ExecuteTime": {
     "end_time": "2025-04-09T09:40:00.322589Z",
     "start_time": "2025-04-09T09:40:00.276426Z"
    }
   },
   "cell_type": "code",
   "source": [
    "for field in ['occupation', 'native_country', 'workclass']:\n",
    "    # Отримуємо масив значень, які ≠ 'Unknown'\n",
    "    values = np_df[field][np_df[field] != 'Unknown']\n",
    "\n",
    "    # Рахуємо унікальні значення та їх частоти\n",
    "    unique, counts = np.unique(values, return_counts=True)\n",
    "\n",
    "    # Шукаємо найбільш часте значення (mode)\n",
    "    most_seen = np.argmax(counts)\n",
    "    mode = unique[most_seen]\n",
    "\n",
    "    # Замінюємо 'Unknown' на mode\n",
    "    np_df[field][np_df[field] == 'Unknown'] = mode"
   ],
   "id": "79bf99ee89cfc8c4",
   "outputs": [],
   "execution_count": 139
  },
  {
   "metadata": {
    "ExecuteTime": {
     "end_time": "2025-04-09T09:40:00.384671Z",
     "start_time": "2025-04-09T09:40:00.370203Z"
    }
   },
   "cell_type": "code",
   "source": [
    "for field in ['occupation', 'native_country', 'workclass']:\n",
    "    if np.issubdtype(np_df[field].dtype, np.str_):\n",
    "        count = np.sum(np_df[field] == 'Unknown')\n",
    "        print(f\"{field}: {count} 'Unknown'\")"
   ],
   "id": "ca3a947f732cd55d",
   "outputs": [
    {
     "name": "stdout",
     "output_type": "stream",
     "text": [
      "occupation: 0 'Unknown'\n",
      "native_country: 0 'Unknown'\n",
      "workclass: 0 'Unknown'\n"
     ]
    }
   ],
   "execution_count": 140
  },
  {
   "metadata": {},
   "cell_type": "markdown",
   "source": "Cтандартизувати",
   "id": "146062190869646e"
  },
  {
   "metadata": {
    "ExecuteTime": {
     "end_time": "2025-04-09T09:40:00.447133Z",
     "start_time": "2025-04-09T09:40:00.433364Z"
    }
   },
   "cell_type": "code",
   "source": [
    "import pandas as pd\n",
    "\n",
    "\n",
    "pd_float = pd_df.select_dtypes(include='number')\n",
    "# pd_std = (pd_float - pd_float.mean()) / pd_float.std()\n",
    "pd_std = (pd_float - pd_float.min())/(pd_float.max()-pd_float.min())\n",
    "pd_cat = pd_df.select_dtypes(exclude='number')\n",
    "pd_final = pd.concat([pd_cat, pd_std], axis=1)\n"
   ],
   "id": "dc95ef12d97bafe0",
   "outputs": [],
   "execution_count": 141
  },
  {
   "metadata": {
    "ExecuteTime": {
     "end_time": "2025-04-09T09:40:00.632746Z",
     "start_time": "2025-04-09T09:40:00.493862Z"
    }
   },
   "cell_type": "code",
   "source": [
    "fields = np_df.dtype.names\n",
    "\n",
    "# Відокремлюємо числові та рядкові\n",
    "num_fields = [f for f in fields if np.issubdtype(np_df[f].dtype, np.number)]\n",
    "cat_fields = [f for f in fields if np.issubdtype(np_df[f].dtype, np.str_)]\n",
    "\n",
    "np_cat = np.column_stack([np_df[f] for f in cat_fields])\n",
    "np_float = np.column_stack([np_df[f] for f in num_fields])\n",
    "\n",
    "np_std = (np_float - np_float.mean(axis=0)) / np_float.std(axis=0)\n",
    "np_final = np.column_stack((np_cat, np_std))"
   ],
   "id": "6b8d2b5768754696",
   "outputs": [],
   "execution_count": 142
  },
  {
   "metadata": {
    "ExecuteTime": {
     "end_time": "2025-04-09T09:40:00.695374Z",
     "start_time": "2025-04-09T09:40:00.681444Z"
    }
   },
   "cell_type": "code",
   "source": "",
   "id": "d5196a332afeb85e",
   "outputs": [],
   "execution_count": null
  },
  {
   "metadata": {},
   "cell_type": "markdown",
   "source": "Гістограма",
   "id": "bbb5713a2a74ef54"
  },
  {
   "metadata": {
    "ExecuteTime": {
     "end_time": "2025-04-09T09:40:00.757477Z",
     "start_time": "2025-04-09T09:40:00.744177Z"
    }
   },
   "cell_type": "code",
   "source": "pd_final.columns",
   "id": "282c7e1108c5250b",
   "outputs": [
    {
     "data": {
      "text/plain": [
       "Index(['workclass', 'education', 'marital_status', 'occupation',\n",
       "       'relationship', 'race', 'sex', 'native_country', 'income', 'age',\n",
       "       'fnlwgt', 'education_num', 'capital_gain', 'capital_loss',\n",
       "       'hours_per_week'],\n",
       "      dtype='object')"
      ]
     },
     "execution_count": 143,
     "metadata": {},
     "output_type": "execute_result"
    }
   ],
   "execution_count": 143
  },
  {
   "metadata": {
    "ExecuteTime": {
     "end_time": "2025-04-09T09:40:01.035969Z",
     "start_time": "2025-04-09T09:40:00.805032Z"
    }
   },
   "cell_type": "code",
   "source": [
    "import seaborn as sns\n",
    "import matplotlib.pyplot as plt\n",
    "\n",
    "sns.histplot(pd_final['hours_per_week'], bins = 10)\n",
    "\n",
    "plt.title('Гістограма hours_per_week pd')\n",
    "\n",
    "plt.savefig('pd_hist.png', dpi=400)\n",
    "plt.close()"
   ],
   "id": "805707aa414ec099",
   "outputs": [],
   "execution_count": 144
  },
  {
   "metadata": {
    "ExecuteTime": {
     "end_time": "2025-04-09T09:40:01.331375Z",
     "start_time": "2025-04-09T09:40:01.085745Z"
    }
   },
   "cell_type": "code",
   "source": [
    "attr = np_final[:, -1].astype(float)\n",
    "sns.histplot(attr, bins = 10)\n",
    "\n",
    "plt.title('Гістограма hours_per_week np')\n",
    "\n",
    "plt.savefig('np_hist.png', dpi=400)\n",
    "plt.close()"
   ],
   "id": "253a2492f541d4f0",
   "outputs": [],
   "execution_count": 145
  },
  {
   "metadata": {
    "ExecuteTime": {
     "end_time": "2025-04-09T09:40:01.394320Z",
     "start_time": "2025-04-09T09:40:01.379396Z"
    }
   },
   "cell_type": "code",
   "source": "pd_df.loc[935, 'hours_per_week']",
   "id": "fa0f8a6f1685a033",
   "outputs": [
    {
     "data": {
      "text/plain": [
       "np.int64(99)"
      ]
     },
     "execution_count": 146,
     "metadata": {},
     "output_type": "execute_result"
    }
   ],
   "execution_count": 146
  },
  {
   "metadata": {
    "ExecuteTime": {
     "end_time": "2025-04-09T09:40:01.753132Z",
     "start_time": "2025-04-09T09:40:01.489519Z"
    }
   },
   "cell_type": "code",
   "source": [
    "sns.scatterplot(x='hours_per_week', y='capital_gain', data=pd_final, s=2)\n",
    "plt.title('Години роботи залежно від рівня доходу')\n",
    "plt.xlabel('hours_per_week')\n",
    "plt.ylabel('capital_gain')\n",
    "\n",
    "plt.savefig('pd_scatter_plot.png', dpi=400)\n",
    "plt.close()"
   ],
   "id": "9bbd436bbea6f764",
   "outputs": [],
   "execution_count": 147
  },
  {
   "metadata": {
    "ExecuteTime": {
     "end_time": "2025-04-09T09:40:02.079783Z",
     "start_time": "2025-04-09T09:40:01.757171Z"
    }
   },
   "cell_type": "code",
   "source": [
    "attr_x=np_final[:, -1].astype(float)\n",
    "attr_y=np_final[:, -3].astype(float)\n",
    "\n",
    "plt.scatter(attr_x, attr_y, s=2)\n",
    "\n",
    "plt.title('Години роботи залежно від рівня доходу')\n",
    "plt.xlabel('Доход')\n",
    "plt.ylabel('Години на тиждень')\n",
    "\n",
    "plt.savefig('np_scatter_plot.png', dpi=400)\n",
    "plt.close()"
   ],
   "id": "1b62906a349cd3f1",
   "outputs": [],
   "execution_count": 148
  },
  {
   "metadata": {},
   "cell_type": "markdown",
   "source": "Коефіцієнти Пірсона та Спірмена",
   "id": "abab9f22c3635cdc"
  },
  {
   "metadata": {
    "ExecuteTime": {
     "end_time": "2025-04-09T09:40:02.143009Z",
     "start_time": "2025-04-09T09:40:02.128387Z"
    }
   },
   "cell_type": "code",
   "source": [
    "from scipy.stats import pearsonr, spearmanr\n",
    "\n",
    "x = pd_final['hours_per_week']\n",
    "y = pd_final['capital_gain']\n",
    "\n",
    "pearson_corr, pearson_p = pearsonr(x, y)\n",
    "spearman_corr, spearman_p = spearmanr(x, y)\n",
    "\n",
    "print(f\"Pearson correlation: {pearson_corr:.4f} (p = {pearson_p:.4f})\")\n",
    "print(f\"Spearman correlation: {spearman_corr:.4f} (p = {spearman_p:.4f})\")\n"
   ],
   "id": "94da2754b51ceafd",
   "outputs": [
    {
     "name": "stdout",
     "output_type": "stream",
     "text": [
      "Pearson correlation: 0.0784 (p = 0.0000)\n",
      "Spearman correlation: 0.0933 (p = 0.0000)\n"
     ]
    }
   ],
   "execution_count": 149
  },
  {
   "metadata": {
    "ExecuteTime": {
     "end_time": "2025-04-09T09:40:02.251056Z",
     "start_time": "2025-04-09T09:40:02.206685Z"
    }
   },
   "cell_type": "code",
   "source": [
    "x = np_final[:,-1].astype(float)\n",
    "y = np_final[:,-3].astype(float)\n",
    "\n",
    "pearson_corr, pearson_p = pearsonr(x, y)\n",
    "spearman_corr, spearman_p = spearmanr(x, y)\n",
    "\n",
    "print(f\"Pearson correlation: {pearson_corr:.4f} (p = {pearson_p:.4f})\")\n",
    "print(f\"Spearman correlation: {spearman_corr:.4f} (p = {spearman_p:.4f})\")"
   ],
   "id": "5de603a3bd0ac7c5",
   "outputs": [
    {
     "name": "stdout",
     "output_type": "stream",
     "text": [
      "Pearson correlation: 0.0784 (p = 0.0000)\n",
      "Spearman correlation: 0.0933 (p = 0.0000)\n"
     ]
    }
   ],
   "execution_count": 150
  },
  {
   "metadata": {},
   "cell_type": "markdown",
   "source": "Провести One Hot Encoding категоріального string атрибуту.",
   "id": "31184645f94c5c29"
  },
  {
   "metadata": {
    "ExecuteTime": {
     "end_time": "2025-04-09T09:40:02.329285Z",
     "start_time": "2025-04-09T09:40:02.299978Z"
    }
   },
   "cell_type": "code",
   "source": [
    "from sklearn.preprocessing import OneHotEncoder\n",
    "\n",
    "# Вибираємо одну колонку як 2D-масив\n",
    "X = pd_df[['occupation']]\n",
    "\n",
    "# Ініціалізуємо енкодер\n",
    "# sparse_output шоб повернутий результат був масивом нп, а не чимось там ще\n",
    "encoder = OneHotEncoder(sparse_output=False, handle_unknown='ignore')\n",
    "\n",
    "# Навчаємо та перетворюємо\n",
    "encoded = encoder.fit_transform(X)\n",
    "\n",
    "# Отримаємо імена нових колонок\n",
    "columns = encoder.get_feature_names_out(['occupation'])\n",
    "encoded_df = pd.DataFrame(encoded, columns=columns)\n",
    "# Об'єднуємо назад з рештою\n",
    "pd_enc = pd.concat([pd_df.drop('occupation', axis=1), encoded_df], axis=1)\n"
   ],
   "id": "e70a4e0feee3a7b0",
   "outputs": [],
   "execution_count": 151
  },
  {
   "metadata": {
    "ExecuteTime": {
     "end_time": "2025-04-09T09:40:02.453585Z",
     "start_time": "2025-04-09T09:40:02.377458Z"
    }
   },
   "cell_type": "code",
   "source": [
    "# щоб можна було приєднати тесктові дані, які в np_final, і флоат\n",
    "np_final = np.array(np_final, dtype=object)\n",
    "\n",
    "np_enc = np.hstack((np_final, encoded))"
   ],
   "id": "dd365348637c6f57",
   "outputs": [],
   "execution_count": 152
  },
  {
   "metadata": {
    "ExecuteTime": {
     "end_time": "2025-04-09T09:43:52.809786Z",
     "start_time": "2025-04-09T09:43:51.813505Z"
    }
   },
   "cell_type": "code",
   "source": [
    "# for_plot = pd_final[['sex', 'income', 'capital_gain', 'occupation']].copy()\n",
    "# # for_plot['capital_gain'] = for_plot['capital_gain'].clip(upper=6)\n",
    "# # for_plot['capital_gain_log'] = np.log1p(for_plot['capital_gain'])\n",
    "# for_plot['combo'] = for_plot['sex'] + '|' + for_plot['income']\n",
    "# sns.violinplot(x='occupation', y='capital_gain', hue='combo',data=for_plot, palette='Set1')\n",
    "#\n",
    "# plt.title('Capital gain в залежності від статі та рівня доходу')\n",
    "# plt.xlabel('Стать + Дохід')\n",
    "# plt.ylabel('Capital gain')\n",
    "#\n",
    "# plt.savefig('pd_multidimensional.png', dpi=400)\n",
    "# plt.close()"
   ],
   "id": "ade09b7487a98bc8",
   "outputs": [],
   "execution_count": 161
  },
  {
   "metadata": {
    "ExecuteTime": {
     "end_time": "2025-04-09T10:15:49.738194Z",
     "start_time": "2025-04-09T10:15:48.860271Z"
    }
   },
   "cell_type": "code",
   "source": [
    "plt.figure(figsize=(14, 6))\n",
    "\n",
    "table = pd.crosstab(\n",
    "    index=[pd_df['sex'], pd_df['income']],\n",
    "    columns=pd_df['occupation'],\n",
    "    values=pd_df['capital_gain'],\n",
    "    aggfunc='mean')\n",
    "sns.heatmap(table, annot=True, cmap='Reds', fmt=\".0f\", annot_kws={\"size\": 7})\n",
    "\n",
    "plt.xticks(rotation=45, ha='right', fontsize=8)\n",
    "plt.yticks(fontsize=8)\n",
    "plt.tight_layout()\n",
    "\n",
    "\n",
    "plt.savefig('pd_multidimensional.png', dpi=500)\n",
    "plt.close()"
   ],
   "id": "c174b6fe7fdcceb2",
   "outputs": [],
   "execution_count": 187
  }
 ],
 "metadata": {
  "kernelspec": {
   "display_name": "Python 3",
   "language": "python",
   "name": "python3"
  },
  "language_info": {
   "codemirror_mode": {
    "name": "ipython",
    "version": 2
   },
   "file_extension": ".py",
   "mimetype": "text/x-python",
   "name": "python",
   "nbconvert_exporter": "python",
   "pygments_lexer": "ipython2",
   "version": "2.7.6"
  }
 },
 "nbformat": 4,
 "nbformat_minor": 5
}
